{
 "cells": [
  {
   "cell_type": "code",
   "execution_count": 6,
   "metadata": {},
   "outputs": [
    {
     "name": "stdout",
     "output_type": "stream",
     "text": [
      "{'train_path': 'small_dataset/train', 'validation_path': 'small_dataset/val', 'batch_size': 10, 'image_size': '(224, 224)', 'learning_rate': 0.001, 'momentum': 0.9, 'loss': 'categorical_crossentropy', 'metrics': ['accuracy'], 'nbr_epochs': 1}\n",
      "Found 380 images belonging to 38 classes.\n",
      "Found 380 images belonging to 38 classes.\n",
      "38/38 [==============================] - 300s 8s/step - loss: 3.6999 - accuracy: 0.0368 - val_loss: 3.6433 - val_accuracy: 0.0263\n"
     ]
    }
   ],
   "source": [
    "import json\n",
    "from train import train\n",
    "\n",
    "def string_to_tuple(txt):\n",
    "    txt=txt.replace(\"(\", \"\")\n",
    "    txt=txt.replace(\")\", \"\")\n",
    "    txt=txt.replace(\" \", \"\")\n",
    "    txt= txt.split(\",\")\n",
    "    t=[]\n",
    "    for i in txt:\n",
    "\t    t.append(int(i))\n",
    "    \n",
    "    t=tuple(t)\n",
    "    return t\n",
    "\n",
    "def main() :\n",
    "    with open(\"parameters.json\") as f:\n",
    "        pars = json.load(f)\n",
    "        train_args = pars[\"training\"]\n",
    "    \n",
    "    print(train_args)\n",
    "    \n",
    "    train_path= train_args[\"train_path\"] \n",
    "    validation_path = train_args[\"validation_path\"] \n",
    "    batch_size = train_args[\"batch_size\"] \n",
    "    image_size= string_to_tuple (train_args[\"image_size\"] ) \n",
    "    learning_rate = train_args[\"learning_rate\"] \n",
    "    momentum =train_args[\"momentum\"] \n",
    "    loss =train_args[\"loss\"] \n",
    "    metrics = train_args[\"metrics\"] \n",
    "    nbr_epochs =train_args[\"nbr_epochs\"] \n",
    "\n",
    "\n",
    "     \n",
    "    train(train_path , validation_path , batch_size , image_size , learning_rate , momentum  , loss  , metrics ,nbr_epochs)\n",
    "\n",
    "\n",
    "main()"
   ]
  }
 ],
 "metadata": {
  "interpreter": {
   "hash": "3a970a0ecb2f2182875378e4d5201316a3c05c284fb0ed1cb06ed01d83826a04"
  },
  "kernelspec": {
   "display_name": "Python 3.7.6 ('base')",
   "language": "python",
   "name": "python3"
  },
  "language_info": {
   "codemirror_mode": {
    "name": "ipython",
    "version": 3
   },
   "file_extension": ".py",
   "mimetype": "text/x-python",
   "name": "python",
   "nbconvert_exporter": "python",
   "pygments_lexer": "ipython3",
   "version": "3.7.6"
  },
  "orig_nbformat": 4
 },
 "nbformat": 4,
 "nbformat_minor": 2
}
